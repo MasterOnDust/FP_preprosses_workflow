{
 "cells": [
  {
   "cell_type": "code",
   "execution_count": null,
   "id": "6671fea0",
   "metadata": {},
   "outputs": [],
   "source": [
    "# start coding here    \n",
    "import xarray as xr\n",
    "import numpy as np\n",
    "from fpcluster.read_trajectories import load_trajectories, read_trajectories\n",
    "import dask\n",
    "from dask.distributed import LocalCluster"
   ]
  },
  {
   "cell_type": "code",
   "execution_count": null,
   "id": "f5abc3d8",
   "metadata": {},
   "outputs": [],
   "source": [
    "inpf = snakemake.input \n",
    "wildcards = snakemake.wildcards\n",
    "paths_trajecs = inpf.paths_trajecs\n",
    "paths_source_contrib = inpf.source_contrib_paths\n",
    "time_stamps = []\n",
    "ddep = []\n",
    "threshold = snakemake.params.threshold\n",
    "use_dask = snakemake.params.use_dask"
   ]
  },
  {
   "cell_type": "code",
   "execution_count": null,
   "id": "0a5888c2",
   "metadata": {},
   "outputs": [],
   "source": [
    "cluster = LocalCluster(n_workers=32, threads_per_worker=1)\n",
    "client= dask.distributed.Client(cluster)"
   ]
  },
  {
   "cell_type": "code",
   "execution_count": null,
   "id": "02860cfe",
   "metadata": {},
   "outputs": [],
   "source": [
    "for path in paths_source_contrib:\n",
    "    if path.endswith('.zarr'):\n",
    "        ds = xr.open_zarr(path)\n",
    "    else:\n",
    "        ds = xr.open_dataset(path)\n",
    "#     if use_dask:\n",
    "#     ds = ds.chunk(chunks={'time':30})\n",
    "    ds = ds[ds.varName].sum(dim=['btime','lon','lat'])\n",
    "    ddep.append(ds)\n",
    "# ddep = xr.concat(ddep, com)    \n",
    "# time_stamps.append(ds.time.values)"
   ]
  },
  {
   "cell_type": "code",
   "execution_count": null,
   "id": "019e418e",
   "metadata": {},
   "outputs": [],
   "source": [
    "ds = xr.concat(ddep, dim='time')\n",
    "\n",
    "ds = ds.compute()\n",
    "\n",
    "ds = ds.where(ds >= threshold,drop=True)"
   ]
  },
  {
   "cell_type": "code",
   "execution_count": null,
   "id": "199794d5",
   "metadata": {},
   "outputs": [],
   "source": [
    "ds_trajec = read_trajectories(paths_trajecs,kind=wildcards.kind)\n"
   ]
  },
  {
   "cell_type": "code",
   "execution_count": null,
   "id": "9f231c21",
   "metadata": {},
   "outputs": [],
   "source": [
    "ds = ds.drop('height')"
   ]
  },
  {
   "cell_type": "code",
   "execution_count": null,
   "id": "f5752206",
   "metadata": {},
   "outputs": [],
   "source": [
    "# da = xr.DataArray(data=ddep, dims=['time'], coords={'time':time_stamps})\n",
    "ds = ds[~ds.get_index(\"time\").duplicated()] #avoid duplicate indices?\n",
    "ds_trajec = ds_trajec.sel(time=ds.time[~ds.get_index(\"time\").duplicated()])\n",
    "ds_trajec = ds_trajec.assign({wildcards.kind:ds})\n",
    "ds_trajec.attrs['varName'] = wildcards.kind\n",
    "ds_trajec.to_netcdf(snakemake.output.outpath)"
   ]
  }
 ],
 "metadata": {
  "kernelspec": {
   "display_name": "Python 3 (ipykernel)",
   "language": "python",
   "name": "python3"
  },
  "language_info": {
   "codemirror_mode": {
    "name": "ipython",
    "version": 3
   },
   "file_extension": ".py",
   "mimetype": "text/x-python",
   "name": "python",
   "nbconvert_exporter": "python",
   "pygments_lexer": "ipython3",
   "version": "3.10.8"
  }
 },
 "nbformat": 4,
 "nbformat_minor": 5
}
